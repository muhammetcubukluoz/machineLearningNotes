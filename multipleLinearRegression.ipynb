{
 "cells": [
  {
   "cell_type": "code",
   "id": "initial_id",
   "metadata": {
    "collapsed": true,
    "ExecuteTime": {
     "end_time": "2025-09-12T14:49:11.648929Z",
     "start_time": "2025-09-12T14:49:11.645324Z"
    }
   },
   "source": [
    "from statistics import linear_regression\n",
    "\n",
    "import pandas as pd\n",
    "import numpy as np\n",
    "import matplotlib.pyplot as plt\n",
    "import seaborn as sns\n"
   ],
   "outputs": [],
   "execution_count": 69
  },
  {
   "metadata": {
    "ExecuteTime": {
     "end_time": "2025-09-12T13:31:16.350940Z",
     "start_time": "2025-09-12T13:31:16.285714Z"
    }
   },
   "cell_type": "code",
   "source": "data = pd.read_csv(\"2-multiplegradesdataset.csv\")",
   "id": "a3e92a9a2b08c3ff",
   "outputs": [],
   "execution_count": 2
  },
  {
   "metadata": {
    "ExecuteTime": {
     "end_time": "2025-09-12T13:31:19.949044Z",
     "start_time": "2025-09-12T13:31:19.923980Z"
    }
   },
   "cell_type": "code",
   "source": "data.head()",
   "id": "b9cc58c32fd1c29f",
   "outputs": [
    {
     "data": {
      "text/plain": [
       "   Study Hours  Sleep Hours  Attendance Rate  Social Media Hours  Exam Score\n",
       "0          4.7          7.3             82.9                 3.3        80.7\n",
       "1          3.8          6.6             87.9                 3.3        76.0\n",
       "2          5.0          6.3             88.3                 2.3        89.1\n",
       "3          6.3          7.6             86.0                 3.2        95.9\n",
       "4          3.6          8.0             89.2                 3.3        70.5"
      ],
      "text/html": [
       "<div>\n",
       "<style scoped>\n",
       "    .dataframe tbody tr th:only-of-type {\n",
       "        vertical-align: middle;\n",
       "    }\n",
       "\n",
       "    .dataframe tbody tr th {\n",
       "        vertical-align: top;\n",
       "    }\n",
       "\n",
       "    .dataframe thead th {\n",
       "        text-align: right;\n",
       "    }\n",
       "</style>\n",
       "<table border=\"1\" class=\"dataframe\">\n",
       "  <thead>\n",
       "    <tr style=\"text-align: right;\">\n",
       "      <th></th>\n",
       "      <th>Study Hours</th>\n",
       "      <th>Sleep Hours</th>\n",
       "      <th>Attendance Rate</th>\n",
       "      <th>Social Media Hours</th>\n",
       "      <th>Exam Score</th>\n",
       "    </tr>\n",
       "  </thead>\n",
       "  <tbody>\n",
       "    <tr>\n",
       "      <th>0</th>\n",
       "      <td>4.7</td>\n",
       "      <td>7.3</td>\n",
       "      <td>82.9</td>\n",
       "      <td>3.3</td>\n",
       "      <td>80.7</td>\n",
       "    </tr>\n",
       "    <tr>\n",
       "      <th>1</th>\n",
       "      <td>3.8</td>\n",
       "      <td>6.6</td>\n",
       "      <td>87.9</td>\n",
       "      <td>3.3</td>\n",
       "      <td>76.0</td>\n",
       "    </tr>\n",
       "    <tr>\n",
       "      <th>2</th>\n",
       "      <td>5.0</td>\n",
       "      <td>6.3</td>\n",
       "      <td>88.3</td>\n",
       "      <td>2.3</td>\n",
       "      <td>89.1</td>\n",
       "    </tr>\n",
       "    <tr>\n",
       "      <th>3</th>\n",
       "      <td>6.3</td>\n",
       "      <td>7.6</td>\n",
       "      <td>86.0</td>\n",
       "      <td>3.2</td>\n",
       "      <td>95.9</td>\n",
       "    </tr>\n",
       "    <tr>\n",
       "      <th>4</th>\n",
       "      <td>3.6</td>\n",
       "      <td>8.0</td>\n",
       "      <td>89.2</td>\n",
       "      <td>3.3</td>\n",
       "      <td>70.5</td>\n",
       "    </tr>\n",
       "  </tbody>\n",
       "</table>\n",
       "</div>"
      ]
     },
     "execution_count": 3,
     "metadata": {},
     "output_type": "execute_result"
    }
   ],
   "execution_count": 3
  },
  {
   "metadata": {
    "ExecuteTime": {
     "end_time": "2025-09-12T13:31:34.464191Z",
     "start_time": "2025-09-12T13:31:34.384928Z"
    }
   },
   "cell_type": "code",
   "source": "data.describe()",
   "id": "e2cabe98091f2092",
   "outputs": [
    {
     "data": {
      "text/plain": [
       "       Study Hours  Sleep Hours  Attendance Rate  Social Media Hours  \\\n",
       "count     50.00000    50.000000        50.000000            50.00000   \n",
       "mean       3.66800     7.022000        89.736000             3.09000   \n",
       "std        1.40123     0.874419         4.924813             0.89699   \n",
       "min        1.10000     4.400000        80.400000             1.50000   \n",
       "25%        2.67500     6.500000        85.625000             2.22500   \n",
       "50%        3.60000     7.050000        90.100000             3.20000   \n",
       "75%        4.50000     7.575000        92.550000             3.57500   \n",
       "max        6.80000     8.600000       100.000000             5.70000   \n",
       "\n",
       "       Exam Score  \n",
       "count    50.00000  \n",
       "mean     76.07000  \n",
       "std      11.70915  \n",
       "min      56.90000  \n",
       "25%      68.07500  \n",
       "50%      73.55000  \n",
       "75%      84.17500  \n",
       "max     100.00000  "
      ],
      "text/html": [
       "<div>\n",
       "<style scoped>\n",
       "    .dataframe tbody tr th:only-of-type {\n",
       "        vertical-align: middle;\n",
       "    }\n",
       "\n",
       "    .dataframe tbody tr th {\n",
       "        vertical-align: top;\n",
       "    }\n",
       "\n",
       "    .dataframe thead th {\n",
       "        text-align: right;\n",
       "    }\n",
       "</style>\n",
       "<table border=\"1\" class=\"dataframe\">\n",
       "  <thead>\n",
       "    <tr style=\"text-align: right;\">\n",
       "      <th></th>\n",
       "      <th>Study Hours</th>\n",
       "      <th>Sleep Hours</th>\n",
       "      <th>Attendance Rate</th>\n",
       "      <th>Social Media Hours</th>\n",
       "      <th>Exam Score</th>\n",
       "    </tr>\n",
       "  </thead>\n",
       "  <tbody>\n",
       "    <tr>\n",
       "      <th>count</th>\n",
       "      <td>50.00000</td>\n",
       "      <td>50.000000</td>\n",
       "      <td>50.000000</td>\n",
       "      <td>50.00000</td>\n",
       "      <td>50.00000</td>\n",
       "    </tr>\n",
       "    <tr>\n",
       "      <th>mean</th>\n",
       "      <td>3.66800</td>\n",
       "      <td>7.022000</td>\n",
       "      <td>89.736000</td>\n",
       "      <td>3.09000</td>\n",
       "      <td>76.07000</td>\n",
       "    </tr>\n",
       "    <tr>\n",
       "      <th>std</th>\n",
       "      <td>1.40123</td>\n",
       "      <td>0.874419</td>\n",
       "      <td>4.924813</td>\n",
       "      <td>0.89699</td>\n",
       "      <td>11.70915</td>\n",
       "    </tr>\n",
       "    <tr>\n",
       "      <th>min</th>\n",
       "      <td>1.10000</td>\n",
       "      <td>4.400000</td>\n",
       "      <td>80.400000</td>\n",
       "      <td>1.50000</td>\n",
       "      <td>56.90000</td>\n",
       "    </tr>\n",
       "    <tr>\n",
       "      <th>25%</th>\n",
       "      <td>2.67500</td>\n",
       "      <td>6.500000</td>\n",
       "      <td>85.625000</td>\n",
       "      <td>2.22500</td>\n",
       "      <td>68.07500</td>\n",
       "    </tr>\n",
       "    <tr>\n",
       "      <th>50%</th>\n",
       "      <td>3.60000</td>\n",
       "      <td>7.050000</td>\n",
       "      <td>90.100000</td>\n",
       "      <td>3.20000</td>\n",
       "      <td>73.55000</td>\n",
       "    </tr>\n",
       "    <tr>\n",
       "      <th>75%</th>\n",
       "      <td>4.50000</td>\n",
       "      <td>7.575000</td>\n",
       "      <td>92.550000</td>\n",
       "      <td>3.57500</td>\n",
       "      <td>84.17500</td>\n",
       "    </tr>\n",
       "    <tr>\n",
       "      <th>max</th>\n",
       "      <td>6.80000</td>\n",
       "      <td>8.600000</td>\n",
       "      <td>100.000000</td>\n",
       "      <td>5.70000</td>\n",
       "      <td>100.00000</td>\n",
       "    </tr>\n",
       "  </tbody>\n",
       "</table>\n",
       "</div>"
      ]
     },
     "execution_count": 4,
     "metadata": {},
     "output_type": "execute_result"
    }
   ],
   "execution_count": 4
  },
  {
   "metadata": {
    "ExecuteTime": {
     "end_time": "2025-09-12T13:32:19.773259Z",
     "start_time": "2025-09-12T13:32:19.598966Z"
    }
   },
   "cell_type": "code",
   "source": "data.info()",
   "id": "127b03aea69c1704",
   "outputs": [
    {
     "name": "stdout",
     "output_type": "stream",
     "text": [
      "<class 'pandas.core.frame.DataFrame'>\n",
      "RangeIndex: 50 entries, 0 to 49\n",
      "Data columns (total 5 columns):\n",
      " #   Column              Non-Null Count  Dtype  \n",
      "---  ------              --------------  -----  \n",
      " 0   Study Hours         50 non-null     float64\n",
      " 1   Sleep Hours         50 non-null     float64\n",
      " 2   Attendance Rate     50 non-null     float64\n",
      " 3   Social Media Hours  50 non-null     float64\n",
      " 4   Exam Score          50 non-null     float64\n",
      "dtypes: float64(5)\n",
      "memory usage: 2.1 KB\n"
     ]
    }
   ],
   "execution_count": 6
  },
  {
   "metadata": {
    "ExecuteTime": {
     "end_time": "2025-09-12T13:32:21.682149Z",
     "start_time": "2025-09-12T13:32:21.676196Z"
    }
   },
   "cell_type": "code",
   "source": "data.isnull().sum()",
   "id": "fce7c63c9c4704fc",
   "outputs": [
    {
     "data": {
      "text/plain": [
       "Study Hours           0\n",
       "Sleep Hours           0\n",
       "Attendance Rate       0\n",
       "Social Media Hours    0\n",
       "Exam Score            0\n",
       "dtype: int64"
      ]
     },
     "execution_count": 7,
     "metadata": {},
     "output_type": "execute_result"
    }
   ],
   "execution_count": 7
  },
  {
   "metadata": {
    "ExecuteTime": {
     "end_time": "2025-09-12T14:17:03.477762Z",
     "start_time": "2025-09-12T14:16:58.175194Z"
    }
   },
   "cell_type": "code",
   "source": [
    "sns.pairplot(data)\n",
    "plt.show()"
   ],
   "id": "747d313c671ea726",
   "outputs": [
    {
     "data": {
      "text/plain": [
       "<Figure size 1250x1250 with 30 Axes>"
      ],
      "image/png": "[encoded data removed]"
     },
     "metadata": {},
     "output_type": "display_data",
     "jetTransient": {
      "display_id": null
     }
    }
   ],
   "execution_count": 8
  },
  {
   "metadata": {
    "ExecuteTime": {
     "end_time": "2025-09-12T14:19:54.562560Z",
     "start_time": "2025-09-12T14:19:54.552625Z"
    }
   },
   "cell_type": "code",
   "source": "data.corr()",
   "id": "e4809820d6376eb9",
   "outputs": [
    {
     "data": {
      "text/plain": [
       "                    Study Hours  Sleep Hours  Attendance Rate  \\\n",
       "Study Hours            1.000000     0.114015        -0.112860   \n",
       "Sleep Hours            0.114015     1.000000        -0.222024   \n",
       "Attendance Rate       -0.112860    -0.222024         1.000000   \n",
       "Social Media Hours     0.115023    -0.177166         0.068272   \n",
       "Exam Score             0.804266     0.227694         0.123791   \n",
       "\n",
       "                    Social Media Hours  Exam Score  \n",
       "Study Hours                   0.115023    0.804266  \n",
       "Sleep Hours                  -0.177166    0.227694  \n",
       "Attendance Rate               0.068272    0.123791  \n",
       "Social Media Hours            1.000000   -0.248743  \n",
       "Exam Score                   -0.248743    1.000000  "
      ],
      "text/html": [
       "<div>\n",
       "<style scoped>\n",
       "    .dataframe tbody tr th:only-of-type {\n",
       "        vertical-align: middle;\n",
       "    }\n",
       "\n",
       "    .dataframe tbody tr th {\n",
       "        vertical-align: top;\n",
       "    }\n",
       "\n",
       "    .dataframe thead th {\n",
       "        text-align: right;\n",
       "    }\n",
       "</style>\n",
       "<table border=\"1\" class=\"dataframe\">\n",
       "  <thead>\n",
       "    <tr style=\"text-align: right;\">\n",
       "      <th></th>\n",
       "      <th>Study Hours</th>\n",
       "      <th>Sleep Hours</th>\n",
       "      <th>Attendance Rate</th>\n",
       "      <th>Social Media Hours</th>\n",
       "      <th>Exam Score</th>\n",
       "    </tr>\n",
       "  </thead>\n",
       "  <tbody>\n",
       "    <tr>\n",
       "      <th>Study Hours</th>\n",
       "      <td>1.000000</td>\n",
       "      <td>0.114015</td>\n",
       "      <td>-0.112860</td>\n",
       "      <td>0.115023</td>\n",
       "      <td>0.804266</td>\n",
       "    </tr>\n",
       "    <tr>\n",
       "      <th>Sleep Hours</th>\n",
       "      <td>0.114015</td>\n",
       "      <td>1.000000</td>\n",
       "      <td>-0.222024</td>\n",
       "      <td>-0.177166</td>\n",
       "      <td>0.227694</td>\n",
       "    </tr>\n",
       "    <tr>\n",
       "      <th>Attendance Rate</th>\n",
       "      <td>-0.112860</td>\n",
       "      <td>-0.222024</td>\n",
       "      <td>1.000000</td>\n",
       "      <td>0.068272</td>\n",
       "      <td>0.123791</td>\n",
       "    </tr>\n",
       "    <tr>\n",
       "      <th>Social Media Hours</th>\n",
       "      <td>0.115023</td>\n",
       "      <td>-0.177166</td>\n",
       "      <td>0.068272</td>\n",
       "      <td>1.000000</td>\n",
       "      <td>-0.248743</td>\n",
       "    </tr>\n",
       "    <tr>\n",
       "      <th>Exam Score</th>\n",
       "      <td>0.804266</td>\n",
       "      <td>0.227694</td>\n",
       "      <td>0.123791</td>\n",
       "      <td>-0.248743</td>\n",
       "      <td>1.000000</td>\n",
       "    </tr>\n",
       "  </tbody>\n",
       "</table>\n",
       "</div>"
      ]
     },
     "execution_count": 12,
     "metadata": {},
     "output_type": "execute_result"
    }
   ],
   "execution_count": 12
  },
  {
   "metadata": {
    "ExecuteTime": {
     "end_time": "2025-09-12T14:20:54.005227Z",
     "start_time": "2025-09-12T14:20:53.888327Z"
    }
   },
   "cell_type": "code",
   "source": [
    "plt.scatter(data[\"Study Hours\"], data[\"Exam Score\"], color=\"r\")\n",
    "plt.xlabel(\"Study Hours\")\n",
    "plt.ylabel(\"Exam Score\")\n",
    "plt.show()"
   ],
   "id": "816509f1b2661cc6",
   "outputs": [
    {
     "data": {
      "text/plain": [
       "<Figure size 640x480 with 1 Axes>"
      ],
      "image/png": "[encoded data removed]"
     },
     "metadata": {},
     "output_type": "display_data",
     "jetTransient": {
      "display_id": null
     }
    }
   ],
   "execution_count": 13
  },
  {
   "metadata": {
    "ExecuteTime": {
     "end_time": "2025-09-12T14:21:27.821157Z",
     "start_time": "2025-09-12T14:21:27.197960Z"
    }
   },
   "cell_type": "code",
   "source": [
    "sns.regplot(x=data[\"Study Hours\"], y=data[\"Exam Score\"])\n",
    "plt.show()"
   ],
   "id": "1bc163e665208f45",
   "outputs": [
    {
     "data": {
      "text/plain": [
       "<Figure size 640x480 with 1 Axes>"
      ],
      "image/png": "[encoded data removed]"
     },
     "metadata": {},
     "output_type": "display_data",
     "jetTransient": {
      "display_id": null
     }
    }
   ],
   "execution_count": 14
  },
  {
   "metadata": {
    "ExecuteTime": {
     "end_time": "2025-09-12T14:21:45.593922Z",
     "start_time": "2025-09-12T14:21:45.392271Z"
    }
   },
   "cell_type": "code",
   "source": [
    "sns.regplot(x=data[\"Sleep Hours\"], y=data[\"Exam Score\"])\n",
    "plt.show()"
   ],
   "id": "6bd5488ab99d3067",
   "outputs": [
    {
     "data": {
      "text/plain": [
       "<Figure size 640x480 with 1 Axes>"
      ],
      "image/png": "[encoded data removed]"
     },
     "metadata": {},
     "output_type": "display_data",
     "jetTransient": {
      "display_id": null
     }
    }
   ],
   "execution_count": 15
  },
  {
   "metadata": {
    "ExecuteTime": {
     "end_time": "2025-09-12T14:21:54.684180Z",
     "start_time": "2025-09-12T14:21:54.502019Z"
    }
   },
   "cell_type": "code",
   "source": [
    "sns.regplot(x=data[\"Social Media Hours\"], y=data[\"Exam Score\"])\n",
    "plt.show()"
   ],
   "id": "471bc191132d8034",
   "outputs": [
    {
     "data": {
      "text/plain": [
       "<Figure size 640x480 with 1 Axes>"
      ],
      "image/png": "[encoded data removed]"
     },
     "metadata": {},
     "output_type": "display_data",
     "jetTransient": {
      "display_id": null
     }
    }
   ],
   "execution_count": 16
  },
  {
   "metadata": {
    "ExecuteTime": {
     "end_time": "2025-09-12T14:22:30.864711Z",
     "start_time": "2025-09-12T14:22:30.854129Z"
    }
   },
   "cell_type": "code",
   "source": "data.tail()",
   "id": "651c4ca1efe6b0c0",
   "outputs": [
    {
     "data": {
      "text/plain": [
       "    Study Hours  Sleep Hours  Attendance Rate  Social Media Hours  Exam Score\n",
       "45          2.9          5.5             93.9                 3.4        65.9\n",
       "46          3.3          7.3             83.8                 2.1        72.8\n",
       "47          5.6          7.3             83.4                 3.2        81.1\n",
       "48          4.5          7.0             92.6                 3.1        91.0\n",
       "49          1.4          6.8             91.5                 1.9        68.8"
      ],
      "text/html": [
       "<div>\n",
       "<style scoped>\n",
       "    .dataframe tbody tr th:only-of-type {\n",
       "        vertical-align: middle;\n",
       "    }\n",
       "\n",
       "    .dataframe tbody tr th {\n",
       "        vertical-align: top;\n",
       "    }\n",
       "\n",
       "    .dataframe thead th {\n",
       "        text-align: right;\n",
       "    }\n",
       "</style>\n",
       "<table border=\"1\" class=\"dataframe\">\n",
       "  <thead>\n",
       "    <tr style=\"text-align: right;\">\n",
       "      <th></th>\n",
       "      <th>Study Hours</th>\n",
       "      <th>Sleep Hours</th>\n",
       "      <th>Attendance Rate</th>\n",
       "      <th>Social Media Hours</th>\n",
       "      <th>Exam Score</th>\n",
       "    </tr>\n",
       "  </thead>\n",
       "  <tbody>\n",
       "    <tr>\n",
       "      <th>45</th>\n",
       "      <td>2.9</td>\n",
       "      <td>5.5</td>\n",
       "      <td>93.9</td>\n",
       "      <td>3.4</td>\n",
       "      <td>65.9</td>\n",
       "    </tr>\n",
       "    <tr>\n",
       "      <th>46</th>\n",
       "      <td>3.3</td>\n",
       "      <td>7.3</td>\n",
       "      <td>83.8</td>\n",
       "      <td>2.1</td>\n",
       "      <td>72.8</td>\n",
       "    </tr>\n",
       "    <tr>\n",
       "      <th>47</th>\n",
       "      <td>5.6</td>\n",
       "      <td>7.3</td>\n",
       "      <td>83.4</td>\n",
       "      <td>3.2</td>\n",
       "      <td>81.1</td>\n",
       "    </tr>\n",
       "    <tr>\n",
       "      <th>48</th>\n",
       "      <td>4.5</td>\n",
       "      <td>7.0</td>\n",
       "      <td>92.6</td>\n",
       "      <td>3.1</td>\n",
       "      <td>91.0</td>\n",
       "    </tr>\n",
       "    <tr>\n",
       "      <th>49</th>\n",
       "      <td>1.4</td>\n",
       "      <td>6.8</td>\n",
       "      <td>91.5</td>\n",
       "      <td>1.9</td>\n",
       "      <td>68.8</td>\n",
       "    </tr>\n",
       "  </tbody>\n",
       "</table>\n",
       "</div>"
      ]
     },
     "execution_count": 18,
     "metadata": {},
     "output_type": "execute_result"
    }
   ],
   "execution_count": 18
  },
  {
   "metadata": {
    "ExecuteTime": {
     "end_time": "2025-09-12T14:25:00.972064Z",
     "start_time": "2025-09-12T14:25:00.966933Z"
    }
   },
   "cell_type": "code",
   "source": [
    "# independent and dependent features\n",
    "X = data.iloc[:,:-1]\n",
    "y = data.iloc[:,-1]\n",
    "\n",
    "#X = data[[\"Study Hours\", \"Sleep Hours\", \"Attendance Rate\",\"Social Media Hours\"]]\n",
    "#y = data[\"Exam Score\"]"
   ],
   "id": "a723e10abf521de5",
   "outputs": [],
   "execution_count": 23
  },
  {
   "metadata": {
    "ExecuteTime": {
     "end_time": "2025-09-12T14:23:43.843613Z",
     "start_time": "2025-09-12T14:23:43.826895Z"
    }
   },
   "cell_type": "code",
   "source": "X.head()",
   "id": "e4ff420bdf9c311d",
   "outputs": [
    {
     "data": {
      "text/plain": [
       "   Study Hours  Sleep Hours  Attendance Rate  Social Media Hours\n",
       "0          4.7          7.3             82.9                 3.3\n",
       "1          3.8          6.6             87.9                 3.3\n",
       "2          5.0          6.3             88.3                 2.3\n",
       "3          6.3          7.6             86.0                 3.2\n",
       "4          3.6          8.0             89.2                 3.3"
      ],
      "text/html": [
       "<div>\n",
       "<style scoped>\n",
       "    .dataframe tbody tr th:only-of-type {\n",
       "        vertical-align: middle;\n",
       "    }\n",
       "\n",
       "    .dataframe tbody tr th {\n",
       "        vertical-align: top;\n",
       "    }\n",
       "\n",
       "    .dataframe thead th {\n",
       "        text-align: right;\n",
       "    }\n",
       "</style>\n",
       "<table border=\"1\" class=\"dataframe\">\n",
       "  <thead>\n",
       "    <tr style=\"text-align: right;\">\n",
       "      <th></th>\n",
       "      <th>Study Hours</th>\n",
       "      <th>Sleep Hours</th>\n",
       "      <th>Attendance Rate</th>\n",
       "      <th>Social Media Hours</th>\n",
       "    </tr>\n",
       "  </thead>\n",
       "  <tbody>\n",
       "    <tr>\n",
       "      <th>0</th>\n",
       "      <td>4.7</td>\n",
       "      <td>7.3</td>\n",
       "      <td>82.9</td>\n",
       "      <td>3.3</td>\n",
       "    </tr>\n",
       "    <tr>\n",
       "      <th>1</th>\n",
       "      <td>3.8</td>\n",
       "      <td>6.6</td>\n",
       "      <td>87.9</td>\n",
       "      <td>3.3</td>\n",
       "    </tr>\n",
       "    <tr>\n",
       "      <th>2</th>\n",
       "      <td>5.0</td>\n",
       "      <td>6.3</td>\n",
       "      <td>88.3</td>\n",
       "      <td>2.3</td>\n",
       "    </tr>\n",
       "    <tr>\n",
       "      <th>3</th>\n",
       "      <td>6.3</td>\n",
       "      <td>7.6</td>\n",
       "      <td>86.0</td>\n",
       "      <td>3.2</td>\n",
       "    </tr>\n",
       "    <tr>\n",
       "      <th>4</th>\n",
       "      <td>3.6</td>\n",
       "      <td>8.0</td>\n",
       "      <td>89.2</td>\n",
       "      <td>3.3</td>\n",
       "    </tr>\n",
       "  </tbody>\n",
       "</table>\n",
       "</div>"
      ]
     },
     "execution_count": 21,
     "metadata": {},
     "output_type": "execute_result"
    }
   ],
   "execution_count": 21
  },
  {
   "metadata": {
    "ExecuteTime": {
     "end_time": "2025-09-12T14:23:47.923154Z",
     "start_time": "2025-09-12T14:23:47.915623Z"
    }
   },
   "cell_type": "code",
   "source": "y.head()",
   "id": "633dca9fc8fe64c7",
   "outputs": [
    {
     "data": {
      "text/plain": [
       "0    80.7\n",
       "1    76.0\n",
       "2    89.1\n",
       "3    95.9\n",
       "4    70.5\n",
       "Name: Exam Score, dtype: float64"
      ]
     },
     "execution_count": 22,
     "metadata": {},
     "output_type": "execute_result"
    }
   ],
   "execution_count": 22
  },
  {
   "metadata": {
    "ExecuteTime": {
     "end_time": "2025-09-12T14:25:36.287615Z",
     "start_time": "2025-09-12T14:25:36.284443Z"
    }
   },
   "cell_type": "code",
   "source": "# train test split",
   "id": "36e95ab9ed3463cd",
   "outputs": [],
   "execution_count": 24
  },
  {
   "metadata": {
    "ExecuteTime": {
     "end_time": "2025-09-12T14:25:45.811061Z",
     "start_time": "2025-09-12T14:25:44.246509Z"
    }
   },
   "cell_type": "code",
   "source": "from sklearn.model_selection import train_test_split",
   "id": "268d300bc839f5a7",
   "outputs": [],
   "execution_count": 25
  },
  {
   "metadata": {
    "ExecuteTime": {
     "end_time": "2025-09-12T14:26:16.808090Z",
     "start_time": "2025-09-12T14:26:16.772922Z"
    }
   },
   "cell_type": "code",
   "source": "X_train, X_test, y_train, y_test = train_test_split(X,y, test_size=0.25, random_state=15)",
   "id": "973e783b0b4dc45a",
   "outputs": [],
   "execution_count": 26
  },
  {
   "metadata": {
    "ExecuteTime": {
     "end_time": "2025-09-12T14:26:23.647407Z",
     "start_time": "2025-09-12T14:26:23.644399Z"
    }
   },
   "cell_type": "code",
   "source": "from sklearn.preprocessing import StandardScaler",
   "id": "a6a4e85178838a2b",
   "outputs": [],
   "execution_count": 27
  },
  {
   "metadata": {
    "ExecuteTime": {
     "end_time": "2025-09-12T14:26:33.842845Z",
     "start_time": "2025-09-12T14:26:33.836510Z"
    }
   },
   "cell_type": "code",
   "source": "scaler = StandardScaler()",
   "id": "25c39a3d751a8a9b",
   "outputs": [],
   "execution_count": 28
  },
  {
   "metadata": {
    "ExecuteTime": {
     "end_time": "2025-09-12T14:26:49.076726Z",
     "start_time": "2025-09-12T14:26:49.069600Z"
    }
   },
   "cell_type": "code",
   "source": [
    "X_train = scaler.fit_transform(X_train)\n",
    "X_test = scaler.transform(X_test)"
   ],
   "id": "f4389c2f267ee4cb",
   "outputs": [],
   "execution_count": 29
  },
  {
   "metadata": {
    "ExecuteTime": {
     "end_time": "2025-09-12T14:26:56.480839Z",
     "start_time": "2025-09-12T14:26:56.474563Z"
    }
   },
   "cell_type": "code",
   "source": "X_train",
   "id": "74e6787858a6e40b",
   "outputs": [
    {
     "data": {
      "text/plain": [
       "array([[ 7.64922342e-01,  1.07637448e+00,  2.70413080e-03,\n",
       "         6.75932027e-01],\n",
       "       [-1.60676425e+00, -3.94765312e-01,  3.42883785e-01,\n",
       "         1.46070057e-01],\n",
       "       [ 1.39737210e+00,  3.40804586e-01, -1.23795108e+00,\n",
       "         1.46070057e-01],\n",
       "       [-1.92298913e+00, -1.84602484e-01,  3.82904921e-01,\n",
       "        -1.23157107e+00],\n",
       "       [ 2.11528804e-01,  2.55603439e-02,  1.48348616e+00,\n",
       "        -1.71847126e-01],\n",
       "       [ 2.90585024e-01,  8.66211656e-01,  2.08380319e+00,\n",
       "         7.81904421e-01],\n",
       "       [-2.56398550e-02, -7.10009554e-01, -1.51809903e+00,\n",
       "         1.46070057e-01],\n",
       "       [ 9.23034781e-01, -7.10009554e-01, -2.57433252e-01,\n",
       "        -8.07681490e-01],\n",
       "       [-4.20920953e-01,  3.40804586e-01, -1.15790881e+00,\n",
       "        -1.01962628e+00],\n",
       "       [-2.56398550e-02, -3.94765312e-01, -3.37475524e-01,\n",
       "         2.52042451e-01],\n",
       "       [ 3.69641243e-01,  5.50967414e-01, -1.15790881e+00,\n",
       "        -1.65546064e+00],\n",
       "       [-9.74314491e-01,  4.45886000e-01,  1.22334877e+00,\n",
       "        -2.77819520e-01],\n",
       "       [-4.99977173e-01, -2.70655642e+00,  6.63052872e-01,\n",
       "         2.52042451e-01],\n",
       "       [ 1.00209100e+00,  1.30641758e-01,  3.02862649e-01,\n",
       "        -4.89764308e-01],\n",
       "       [ 2.02982186e+00, -8.15090968e-01,  1.96373979e+00,\n",
       "         1.94760076e+00],\n",
       "       [ 1.08114722e+00, -8.15090968e-01, -8.37739721e-01,\n",
       "        -2.77819520e-01],\n",
       "       [-7.37145832e-01, -1.55066087e+00,  8.63158551e-01,\n",
       "         3.58014845e-01],\n",
       "       [-2.16015779e+00, -1.23541662e+00,  2.08380319e+00,\n",
       "        -9.13653884e-01],\n",
       "       [ 5.27753683e-01,  2.55603439e-02,  6.03021168e-01,\n",
       "         4.00976626e-02],\n",
       "       [-1.52770803e+00, -6.04928140e-01,  8.43147983e-01,\n",
       "        -9.13653884e-01],\n",
       "       [-1.83752294e-01,  1.07637448e+00, -7.73381408e-02,\n",
       "         2.52042451e-01],\n",
       "       [-4.99977173e-01,  1.49670014e+00,  3.82904921e-01,\n",
       "         3.58014845e-01],\n",
       "       [-4.20920953e-01, -4.99846726e-01, -1.83826812e+00,\n",
       "        -1.12559867e+00],\n",
       "       [ 1.32472584e-01,  1.60178155e+00, -9.77813696e-01,\n",
       "        -1.23157107e+00],\n",
       "       [-1.52770803e+00,  1.70686297e+00, -1.31799335e+00,\n",
       "         2.52042451e-01],\n",
       "       [ 2.34604673e+00,  4.45886000e-01,  1.42778106e-01,\n",
       "        -1.01962628e+00],\n",
       "       [ 5.27753683e-01,  1.07637448e+00, -1.07786654e+00,\n",
       "         1.94760076e+00],\n",
       "       [-1.83752294e-01, -2.07606794e+00, -4.17517795e-01,\n",
       "         2.79537991e+00],\n",
       "       [-1.04696075e-01,  1.60178155e+00, -8.17729153e-01,\n",
       "        -9.13653884e-01],\n",
       "       [-4.20920953e-01, -1.84602484e-01,  6.27358345e-02,\n",
       "         7.81904421e-01],\n",
       "       [ 1.08114722e+00, -2.89683898e-01,  2.62841514e-01,\n",
       "         4.63987239e-01],\n",
       "       [ 6.06809902e-01, -2.89683898e-01, -4.77549499e-01,\n",
       "         1.52371118e+00],\n",
       "       [-5.79033393e-01,  1.30641758e-01,  1.82799242e-01,\n",
       "        -3.83791914e-01],\n",
       "       [ 6.85866122e-01,  3.40804586e-01, -1.33800392e+00,\n",
       "         2.52042451e-01],\n",
       "       [-1.83752294e-01,  9.71293070e-01,  4.82957760e-01,\n",
       "        -8.07681490e-01],\n",
       "       [ 4.48697463e-01, -1.13033521e+00,  1.42778106e-01,\n",
       "         1.20579400e+00],\n",
       "       [-4.20920953e-01,  3.40804586e-01,  3.42883785e-01,\n",
       "        -1.33754346e+00]])"
      ]
     },
     "execution_count": 30,
     "metadata": {},
     "output_type": "execute_result"
    }
   ],
   "execution_count": 30
  },
  {
   "metadata": {
    "ExecuteTime": {
     "end_time": "2025-09-12T14:27:34.891890Z",
     "start_time": "2025-09-12T14:27:32.646098Z"
    }
   },
   "cell_type": "code",
   "source": "from sklearn.linear_model import LinearRegression",
   "id": "7f3ffabbe64167a",
   "outputs": [],
   "execution_count": 31
  },
  {
   "metadata": {
    "ExecuteTime": {
     "end_time": "2025-09-12T14:27:48.217343Z",
     "start_time": "2025-09-12T14:27:48.213468Z"
    }
   },
   "cell_type": "code",
   "source": "regression = LinearRegression()",
   "id": "ca01ff46d5c0e31",
   "outputs": [],
   "execution_count": 32
  },
  {
   "metadata": {
    "ExecuteTime": {
     "end_time": "2025-09-12T14:27:54.012334Z",
     "start_time": "2025-09-12T14:27:53.802983Z"
    }
   },
   "cell_type": "code",
   "source": "regression.fit(X_train, y_train)",
   "id": "4c18693243a756f4",
   "outputs": [
    {
     "data": {
      "text/plain": [
       "LinearRegression()"
      ],
      "text/html": [
       "<style>#sk-container-id-1 {\n",
       "  /* Definition of color scheme common for light and dark mode */\n",
       "  --sklearn-color-text: #000;\n",
       "  --sklearn-color-text-muted: #666;\n",
       "  --sklearn-color-line: gray;\n",
       "  /* Definition of color scheme for unfitted estimators */\n",
       "  --sklearn-color-unfitted-level-0: #fff5e6;\n",
       "  --sklearn-color-unfitted-level-1: #f6e4d2;\n",
       "  --sklearn-color-unfitted-level-2: #ffe0b3;\n",
       "  --sklearn-color-unfitted-level-3: chocolate;\n",
       "  /* Definition of color scheme for fitted estimators */\n",
       "  --sklearn-color-fitted-level-0: #f0f8ff;\n",
       "  --sklearn-color-fitted-level-1: #d4ebff;\n",
       "  --sklearn-color-fitted-level-2: #b3dbfd;\n",
       "  --sklearn-color-fitted-level-3: cornflowerblue;\n",
       "\n",
       "  /* Specific color for light theme */\n",
       "  --sklearn-color-text-on-default-background: var(--sg-text-color, var(--theme-code-foreground, var(--jp-content-font-color1, black)));\n",
       "  --sklearn-color-background: var(--sg-background-color, var(--theme-background, var(--jp-layout-color0, white)));\n",
       "  --sklearn-color-border-box: var(--sg-text-color, var(--theme-code-foreground, var(--jp-content-font-color1, black)));\n",
       "  --sklearn-color-icon: #696969;\n",
       "\n",
       "  @media (prefers-color-scheme: dark) {\n",
       "    /* Redefinition of color scheme for dark theme */\n",
       "    --sklearn-color-text-on-default-background: var(--sg-text-color, var(--theme-code-foreground, var(--jp-content-font-color1, white)));\n",
       "    --sklearn-color-background: var(--sg-background-color, var(--theme-background, var(--jp-layout-color0, #111)));\n",
       "    --sklearn-color-border-box: var(--sg-text-color, var(--theme-code-foreground, var(--jp-content-font-color1, white)));\n",
       "    --sklearn-color-icon: #878787;\n",
       "  }\n",
       "}\n",
       "\n",
       "#sk-container-id-1 {\n",
       "  color: var(--sklearn-color-text);\n",
       "}\n",
       "\n",
       "#sk-container-id-1 pre {\n",
       "  padding: 0;\n",
       "}\n",
       "\n",
       "#sk-container-id-1 input.sk-hidden--visually {\n",
       "  border: 0;\n",
       "  clip: rect(1px 1px 1px 1px);\n",
       "  clip: rect(1px, 1px, 1px, 1px);\n",
       "  height: 1px;\n",
       "  margin: -1px;\n",
       "  overflow: hidden;\n",
       "  padding: 0;\n",
       "  position: absolute;\n",
       "  width: 1px;\n",
       "}\n",
       "\n",
       "#sk-container-id-1 div.sk-dashed-wrapped {\n",
       "  border: 1px dashed var(--sklearn-color-line);\n",
       "  margin: 0 0.4em 0.5em 0.4em;\n",
       "  box-sizing: border-box;\n",
       "  padding-bottom: 0.4em;\n",
       "  background-color: var(--sklearn-color-background);\n",
       "}\n",
       "\n",
       "#sk-container-id-1 div.sk-container {\n",
       "  /* jupyter's `normalize.less` sets `[hidden] { display: none; }`\n",
       "     but bootstrap.min.css set `[hidden] { display: none !important; }`\n",
       "     so we also need the `!important` here to be able to override the\n",
       "     default hidden behavior on the sphinx rendered scikit-learn.org.\n",
       "     See: https://github.com/scikit-learn/scikit-learn/issues/21755 */\n",
       "  display: inline-block !important;\n",
       "  position: relative;\n",
       "}\n",
       "\n",
       "#sk-container-id-1 div.sk-text-repr-fallback {\n",
       "  display: none;\n",
       "}\n",
       "\n",
       "div.sk-parallel-item,\n",
       "div.sk-serial,\n",
       "div.sk-item {\n",
       "  /* draw centered vertical line to link estimators */\n",
       "  background-image: linear-gradient(var(--sklearn-color-text-on-default-background), var(--sklearn-color-text-on-default-background));\n",
       "  background-size: 2px 100%;\n",
       "  background-repeat: no-repeat;\n",
       "  background-position: center center;\n",
       "}\n",
       "\n",
       "/* Parallel-specific style estimator block */\n",
       "\n",
       "#sk-container-id-1 div.sk-parallel-item::after {\n",
       "  content: \"\";\n",
       "  width: 100%;\n",
       "  border-bottom: 2px solid var(--sklearn-color-text-on-default-background);\n",
       "  flex-grow: 1;\n",
       "}\n",
       "\n",
       "#sk-container-id-1 div.sk-parallel {\n",
       "  display: flex;\n",
       "  align-items: stretch;\n",
       "  justify-content: center;\n",
       "  background-color: var(--sklearn-color-background);\n",
       "  position: relative;\n",
       "}\n",
       "\n",
       "#sk-container-id-1 div.sk-parallel-item {\n",
       "  display: flex;\n",
       "  flex-direction: column;\n",
       "}\n",
       "\n",
       "#sk-container-id-1 div.sk-parallel-item:first-child::after {\n",
       "  align-self: flex-end;\n",
       "  width: 50%;\n",
       "}\n",
       "\n",
       "#sk-container-id-1 div.sk-parallel-item:last-child::after {\n",
       "  align-self: flex-start;\n",
       "  width: 50%;\n",
       "}\n",
       "\n",
       "#sk-container-id-1 div.sk-parallel-item:only-child::after {\n",
       "  width: 0;\n",
       "}\n",
       "\n",
       "/* Serial-specific style estimator block */\n",
       "\n",
       "#sk-container-id-1 div.sk-serial {\n",
       "  display: flex;\n",
       "  flex-direction: column;\n",
       "  align-items: center;\n",
       "  background-color: var(--sklearn-color-background);\n",
       "  padding-right: 1em;\n",
       "  padding-left: 1em;\n",
       "}\n",
       "\n",
       "\n",
       "/* Toggleable style: style used for estimator/Pipeline/ColumnTransformer box that is\n",
       "clickable and can be expanded/collapsed.\n",
       "- Pipeline and ColumnTransformer use this feature and define the default style\n",
       "- Estimators will overwrite some part of the style using the `sk-estimator` class\n",
       "*/\n",
       "\n",
       "/* Pipeline and ColumnTransformer style (default) */\n",
       "\n",
       "#sk-container-id-1 div.sk-toggleable {\n",
       "  /* Default theme specific background. It is overwritten whether we have a\n",
       "  specific estimator or a Pipeline/ColumnTransformer */\n",
       "  background-color: var(--sklearn-color-background);\n",
       "}\n",
       "\n",
       "/* Toggleable label */\n",
       "#sk-container-id-1 label.sk-toggleable__label {\n",
       "  cursor: pointer;\n",
       "  display: flex;\n",
       "  width: 100%;\n",
       "  margin-bottom: 0;\n",
       "  padding: 0.5em;\n",
       "  box-sizing: border-box;\n",
       "  text-align: center;\n",
       "  align-items: start;\n",
       "  justify-content: space-between;\n",
       "  gap: 0.5em;\n",
       "}\n",
       "\n",
       "#sk-container-id-1 label.sk-toggleable__label .caption {\n",
       "  font-size: 0.6rem;\n",
       "  font-weight: lighter;\n",
       "  color: var(--sklearn-color-text-muted);\n",
       "}\n",
       "\n",
       "#sk-container-id-1 label.sk-toggleable__label-arrow:before {\n",
       "  /* Arrow on the left of the label */\n",
       "  content: \"▸\";\n",
       "  float: left;\n",
       "  margin-right: 0.25em;\n",
       "  color: var(--sklearn-color-icon);\n",
       "}\n",
       "\n",
       "#sk-container-id-1 label.sk-toggleable__label-arrow:hover:before {\n",
       "  color: var(--sklearn-color-text);\n",
       "}\n",
       "\n",
       "/* Toggleable content - dropdown */\n",
       "\n",
       "#sk-container-id-1 div.sk-toggleable__content {\n",
       "  display: none;\n",
       "  text-align: left;\n",
       "  /* unfitted */\n",
       "  background-color: var(--sklearn-color-unfitted-level-0);\n",
       "}\n",
       "\n",
       "#sk-container-id-1 div.sk-toggleable__content.fitted {\n",
       "  /* fitted */\n",
       "  background-color: var(--sklearn-color-fitted-level-0);\n",
       "}\n",
       "\n",
       "#sk-container-id-1 div.sk-toggleable__content pre {\n",
       "  margin: 0.2em;\n",
       "  border-radius: 0.25em;\n",
       "  color: var(--sklearn-color-text);\n",
       "  /* unfitted */\n",
       "  background-color: var(--sklearn-color-unfitted-level-0);\n",
       "}\n",
       "\n",
       "#sk-container-id-1 div.sk-toggleable__content.fitted pre {\n",
       "  /* unfitted */\n",
       "  background-color: var(--sklearn-color-fitted-level-0);\n",
       "}\n",
       "\n",
       "#sk-container-id-1 input.sk-toggleable__control:checked~div.sk-toggleable__content {\n",
       "  /* Expand drop-down */\n",
       "  display: block;\n",
       "  width: 100%;\n",
       "  overflow: visible;\n",
       "}\n",
       "\n",
       "#sk-container-id-1 input.sk-toggleable__control:checked~label.sk-toggleable__label-arrow:before {\n",
       "  content: \"▾\";\n",
       "}\n",
       "\n",
       "/* Pipeline/ColumnTransformer-specific style */\n",
       "\n",
       "#sk-container-id-1 div.sk-label input.sk-toggleable__control:checked~label.sk-toggleable__label {\n",
       "  color: var(--sklearn-color-text);\n",
       "  background-color: var(--sklearn-color-unfitted-level-2);\n",
       "}\n",
       "\n",
       "#sk-container-id-1 div.sk-label.fitted input.sk-toggleable__control:checked~label.sk-toggleable__label {\n",
       "  background-color: var(--sklearn-color-fitted-level-2);\n",
       "}\n",
       "\n",
       "/* Estimator-specific style */\n",
       "\n",
       "/* Colorize estimator box */\n",
       "#sk-container-id-1 div.sk-estimator input.sk-toggleable__control:checked~label.sk-toggleable__label {\n",
       "  /* unfitted */\n",
       "  background-color: var(--sklearn-color-unfitted-level-2);\n",
       "}\n",
       "\n",
       "#sk-container-id-1 div.sk-estimator.fitted input.sk-toggleable__control:checked~label.sk-toggleable__label {\n",
       "  /* fitted */\n",
       "  background-color: var(--sklearn-color-fitted-level-2);\n",
       "}\n",
       "\n",
       "#sk-container-id-1 div.sk-label label.sk-toggleable__label,\n",
       "#sk-container-id-1 div.sk-label label {\n",
       "  /* The background is the default theme color */\n",
       "  color: var(--sklearn-color-text-on-default-background);\n",
       "}\n",
       "\n",
       "/* On hover, darken the color of the background */\n",
       "#sk-container-id-1 div.sk-label:hover label.sk-toggleable__label {\n",
       "  color: var(--sklearn-color-text);\n",
       "  background-color: var(--sklearn-color-unfitted-level-2);\n",
       "}\n",
       "\n",
       "/* Label box, darken color on hover, fitted */\n",
       "#sk-container-id-1 div.sk-label.fitted:hover label.sk-toggleable__label.fitted {\n",
       "  color: var(--sklearn-color-text);\n",
       "  background-color: var(--sklearn-color-fitted-level-2);\n",
       "}\n",
       "\n",
       "/* Estimator label */\n",
       "\n",
       "#sk-container-id-1 div.sk-label label {\n",
       "  font-family: monospace;\n",
       "  font-weight: bold;\n",
       "  display: inline-block;\n",
       "  line-height: 1.2em;\n",
       "}\n",
       "\n",
       "#sk-container-id-1 div.sk-label-container {\n",
       "  text-align: center;\n",
       "}\n",
       "\n",
       "/* Estimator-specific */\n",
       "#sk-container-id-1 div.sk-estimator {\n",
       "  font-family: monospace;\n",
       "  border: 1px dotted var(--sklearn-color-border-box);\n",
       "  border-radius: 0.25em;\n",
       "  box-sizing: border-box;\n",
       "  margin-bottom: 0.5em;\n",
       "  /* unfitted */\n",
       "  background-color: var(--sklearn-color-unfitted-level-0);\n",
       "}\n",
       "\n",
       "#sk-container-id-1 div.sk-estimator.fitted {\n",
       "  /* fitted */\n",
       "  background-color: var(--sklearn-color-fitted-level-0);\n",
       "}\n",
       "\n",
       "/* on hover */\n",
       "#sk-container-id-1 div.sk-estimator:hover {\n",
       "  /* unfitted */\n",
       "  background-color: var(--sklearn-color-unfitted-level-2);\n",
       "}\n",
       "\n",
       "#sk-container-id-1 div.sk-estimator.fitted:hover {\n",
       "  /* fitted */\n",
       "  background-color: var(--sklearn-color-fitted-level-2);\n",
       "}\n",
       "\n",
       "/* Specification for estimator info (e.g. \"i\" and \"?\") */\n",
       "\n",
       "/* Common style for \"i\" and \"?\" */\n",
       "\n",
       ".sk-estimator-doc-link,\n",
       "a:link.sk-estimator-doc-link,\n",
       "a:visited.sk-estimator-doc-link {\n",
       "  float: right;\n",
       "  font-size: smaller;\n",
       "  line-height: 1em;\n",
       "  font-family: monospace;\n",
       "  background-color: var(--sklearn-color-background);\n",
       "  border-radius: 1em;\n",
       "  height: 1em;\n",
       "  width: 1em;\n",
       "  text-decoration: none !important;\n",
       "  margin-left: 0.5em;\n",
       "  text-align: center;\n",
       "  /* unfitted */\n",
       "  border: var(--sklearn-color-unfitted-level-1) 1pt solid;\n",
       "  color: var(--sklearn-color-unfitted-level-1);\n",
       "}\n",
       "\n",
       ".sk-estimator-doc-link.fitted,\n",
       "a:link.sk-estimator-doc-link.fitted,\n",
       "a:visited.sk-estimator-doc-link.fitted {\n",
       "  /* fitted */\n",
       "  border: var(--sklearn-color-fitted-level-1) 1pt solid;\n",
       "  color: var(--sklearn-color-fitted-level-1);\n",
       "}\n",
       "\n",
       "/* On hover */\n",
       "div.sk-estimator:hover .sk-estimator-doc-link:hover,\n",
       ".sk-estimator-doc-link:hover,\n",
       "div.sk-label-container:hover .sk-estimator-doc-link:hover,\n",
       ".sk-estimator-doc-link:hover {\n",
       "  /* unfitted */\n",
       "  background-color: var(--sklearn-color-unfitted-level-3);\n",
       "  color: var(--sklearn-color-background);\n",
       "  text-decoration: none;\n",
       "}\n",
       "\n",
       "div.sk-estimator.fitted:hover .sk-estimator-doc-link.fitted:hover,\n",
       ".sk-estimator-doc-link.fitted:hover,\n",
       "div.sk-label-container:hover .sk-estimator-doc-link.fitted:hover,\n",
       ".sk-estimator-doc-link.fitted:hover {\n",
       "  /* fitted */\n",
       "  background-color: var(--sklearn-color-fitted-level-3);\n",
       "  color: var(--sklearn-color-background);\n",
       "  text-decoration: none;\n",
       "}\n",
       "\n",
       "/* Span, style for the box shown on hovering the info icon */\n",
       ".sk-estimator-doc-link span {\n",
       "  display: none;\n",
       "  z-index: 9999;\n",
       "  position: relative;\n",
       "  font-weight: normal;\n",
       "  right: .2ex;\n",
       "  padding: .5ex;\n",
       "  margin: .5ex;\n",
       "  width: min-content;\n",
       "  min-width: 20ex;\n",
       "  max-width: 50ex;\n",
       "  color: var(--sklearn-color-text);\n",
       "  box-shadow: 2pt 2pt 4pt #999;\n",
       "  /* unfitted */\n",
       "  background: var(--sklearn-color-unfitted-level-0);\n",
       "  border: .5pt solid var(--sklearn-color-unfitted-level-3);\n",
       "}\n",
       "\n",
       ".sk-estimator-doc-link.fitted span {\n",
       "  /* fitted */\n",
       "  background: var(--sklearn-color-fitted-level-0);\n",
       "  border: var(--sklearn-color-fitted-level-3);\n",
       "}\n",
       "\n",
       ".sk-estimator-doc-link:hover span {\n",
       "  display: block;\n",
       "}\n",
       "\n",
       "/* \"?\"-specific style due to the `<a>` HTML tag */\n",
       "\n",
       "#sk-container-id-1 a.estimator_doc_link {\n",
       "  float: right;\n",
       "  font-size: 1rem;\n",
       "  line-height: 1em;\n",
       "  font-family: monospace;\n",
       "  background-color: var(--sklearn-color-background);\n",
       "  border-radius: 1rem;\n",
       "  height: 1rem;\n",
       "  width: 1rem;\n",
       "  text-decoration: none;\n",
       "  /* unfitted */\n",
       "  color: var(--sklearn-color-unfitted-level-1);\n",
       "  border: var(--sklearn-color-unfitted-level-1) 1pt solid;\n",
       "}\n",
       "\n",
       "#sk-container-id-1 a.estimator_doc_link.fitted {\n",
       "  /* fitted */\n",
       "  border: var(--sklearn-color-fitted-level-1) 1pt solid;\n",
       "  color: var(--sklearn-color-fitted-level-1);\n",
       "}\n",
       "\n",
       "/* On hover */\n",
       "#sk-container-id-1 a.estimator_doc_link:hover {\n",
       "  /* unfitted */\n",
       "  background-color: var(--sklearn-color-unfitted-level-3);\n",
       "  color: var(--sklearn-color-background);\n",
       "  text-decoration: none;\n",
       "}\n",
       "\n",
       "#sk-container-id-1 a.estimator_doc_link.fitted:hover {\n",
       "  /* fitted */\n",
       "  background-color: var(--sklearn-color-fitted-level-3);\n",
       "}\n",
       "\n",
       ".estimator-table summary {\n",
       "    padding: .5rem;\n",
       "    font-family: monospace;\n",
       "    cursor: pointer;\n",
       "}\n",
       "\n",
       ".estimator-table details[open] {\n",
       "    padding-left: 0.1rem;\n",
       "    padding-right: 0.1rem;\n",
       "    padding-bottom: 0.3rem;\n",
       "}\n",
       "\n",
       ".estimator-table .parameters-table {\n",
       "    margin-left: auto !important;\n",
       "    margin-right: auto !important;\n",
       "}\n",
       "\n",
       ".estimator-table .parameters-table tr:nth-child(odd) {\n",
       "    background-color: #fff;\n",
       "}\n",
       "\n",
       ".estimator-table .parameters-table tr:nth-child(even) {\n",
       "    background-color: #f6f6f6;\n",
       "}\n",
       "\n",
       ".estimator-table .parameters-table tr:hover {\n",
       "    background-color: #e0e0e0;\n",
       "}\n",
       "\n",
       ".estimator-table table td {\n",
       "    border: 1px solid rgba(106, 105, 104, 0.232);\n",
       "}\n",
       "\n",
       ".user-set td {\n",
       "    color:rgb(255, 94, 0);\n",
       "    text-align: left;\n",
       "}\n",
       "\n",
       ".user-set td.value pre {\n",
       "    color:rgb(255, 94, 0) !important;\n",
       "    background-color: transparent !important;\n",
       "}\n",
       "\n",
       ".default td {\n",
       "    color: black;\n",
       "    text-align: left;\n",
       "}\n",
       "\n",
       ".user-set td i,\n",
       ".default td i {\n",
       "    color: black;\n",
       "}\n",
       "\n",
       ".copy-paste-icon {\n",
       "    background-image: url(data:image/svg+xml;base64,PHN2ZyB4bWxucz0iaHR0cDovL3d3dy53My5vcmcvMjAwMC9zdmciIHZpZXdCb3g9IjAgMCA0NDggNTEyIj48IS0tIUZvbnQgQXdlc29tZSBGcmVlIDYuNy4yIGJ5IEBmb250YXdlc29tZSAtIGh0dHBzOi8vZm9udGF3ZXNvbWUuY29tIExpY2Vuc2UgLSBodHRwczovL2ZvbnRhd2Vzb21lLmNvbS9saWNlbnNlL2ZyZWUgQ29weXJpZ2h0IDIwMjUgRm9udGljb25zLCBJbmMuLS0+PHBhdGggZD0iTTIwOCAwTDMzMi4xIDBjMTIuNyAwIDI0LjkgNS4xIDMzLjkgMTQuMWw2Ny45IDY3LjljOSA5IDE0LjEgMjEuMiAxNC4xIDMzLjlMNDQ4IDMzNmMwIDI2LjUtMjEuNSA0OC00OCA0OGwtMTkyIDBjLTI2LjUgMC00OC0yMS41LTQ4LTQ4bDAtMjg4YzAtMjYuNSAyMS41LTQ4IDQ4LTQ4ek00OCAxMjhsODAgMCAwIDY0LTY0IDAgMCAyNTYgMTkyIDAgMC0zMiA2NCAwIDAgNDhjMCAyNi41LTIxLjUgNDgtNDggNDhMNDggNTEyYy0yNi41IDAtNDgtMjEuNS00OC00OEwwIDE3NmMwLTI2LjUgMjEuNS00OCA0OC00OHoiLz48L3N2Zz4=);\n",
       "    background-repeat: no-repeat;\n",
       "    background-size: 14px 14px;\n",
       "    background-position: 0;\n",
       "    display: inline-block;\n",
       "    width: 14px;\n",
       "    height: 14px;\n",
       "    cursor: pointer;\n",
       "}\n",
       "</style><body><div id=\"sk-container-id-1\" class=\"sk-top-container\"><div class=\"sk-text-repr-fallback\"><pre>LinearRegression()</pre><b>In a Jupyter environment, please rerun this cell to show the HTML representation or trust the notebook. <br />On GitHub, the HTML representation is unable to render, please try loading this page with nbviewer.org.</b></div><div class=\"sk-container\" hidden><div class=\"sk-item\"><div class=\"sk-estimator fitted sk-toggleable\"><input class=\"sk-toggleable__control sk-hidden--visually\" id=\"sk-estimator-id-1\" type=\"checkbox\" checked><label for=\"sk-estimator-id-1\" class=\"sk-toggleable__label fitted sk-toggleable__label-arrow\"><div><div>LinearRegression</div></div><div><a class=\"sk-estimator-doc-link fitted\" rel=\"noreferrer\" target=\"_blank\" href=\"https://scikit-learn.org/1.7/modules/generated/sklearn.linear_model.LinearRegression.html\">?<span>Documentation for LinearRegression</span></a><span class=\"sk-estimator-doc-link fitted\">i<span>Fitted</span></span></div></label><div class=\"sk-toggleable__content fitted\" data-param-prefix=\"\">\n",
       "        <div class=\"estimator-table\">\n",
       "            <details>\n",
       "                <summary>Parameters</summary>\n",
       "                <table class=\"parameters-table\">\n",
       "                  <tbody>\n",
       "                    \n",
       "        <tr class=\"default\">\n",
       "            <td><i class=\"copy-paste-icon\"\n",
       "                 onclick=\"copyToClipboard('fit_intercept',\n",
       "                          this.parentElement.nextElementSibling)\"\n",
       "            ></i></td>\n",
       "            <td class=\"param\">fit_intercept&nbsp;</td>\n",
       "            <td class=\"value\">True</td>\n",
       "        </tr>\n",
       "    \n",
       "\n",
       "        <tr class=\"default\">\n",
       "            <td><i class=\"copy-paste-icon\"\n",
       "                 onclick=\"copyToClipboard('copy_X',\n",
       "                          this.parentElement.nextElementSibling)\"\n",
       "            ></i></td>\n",
       "            <td class=\"param\">copy_X&nbsp;</td>\n",
       "            <td class=\"value\">True</td>\n",
       "        </tr>\n",
       "    \n",
       "\n",
       "        <tr class=\"default\">\n",
       "            <td><i class=\"copy-paste-icon\"\n",
       "                 onclick=\"copyToClipboard('tol',\n",
       "                          this.parentElement.nextElementSibling)\"\n",
       "            ></i></td>\n",
       "            <td class=\"param\">tol&nbsp;</td>\n",
       "            <td class=\"value\">1e-06</td>\n",
       "        </tr>\n",
       "    \n",
       "\n",
       "        <tr class=\"default\">\n",
       "            <td><i class=\"copy-paste-icon\"\n",
       "                 onclick=\"copyToClipboard('n_jobs',\n",
       "                          this.parentElement.nextElementSibling)\"\n",
       "            ></i></td>\n",
       "            <td class=\"param\">n_jobs&nbsp;</td>\n",
       "            <td class=\"value\">None</td>\n",
       "        </tr>\n",
       "    \n",
       "\n",
       "        <tr class=\"default\">\n",
       "            <td><i class=\"copy-paste-icon\"\n",
       "                 onclick=\"copyToClipboard('positive',\n",
       "                          this.parentElement.nextElementSibling)\"\n",
       "            ></i></td>\n",
       "            <td class=\"param\">positive&nbsp;</td>\n",
       "            <td class=\"value\">False</td>\n",
       "        </tr>\n",
       "    \n",
       "                  </tbody>\n",
       "                </table>\n",
       "            </details>\n",
       "        </div>\n",
       "    </div></div></div></div></div><script>function copyToClipboard(text, element) {\n",
       "    // Get the parameter prefix from the closest toggleable content\n",
       "    const toggleableContent = element.closest('.sk-toggleable__content');\n",
       "    const paramPrefix = toggleableContent ? toggleableContent.dataset.paramPrefix : '';\n",
       "    const fullParamName = paramPrefix ? `${paramPrefix}${text}` : text;\n",
       "\n",
       "    const originalStyle = element.style;\n",
       "    const computedStyle = window.getComputedStyle(element);\n",
       "    const originalWidth = computedStyle.width;\n",
       "    const originalHTML = element.innerHTML.replace('Copied!', '');\n",
       "\n",
       "    navigator.clipboard.writeText(fullParamName)\n",
       "        .then(() => {\n",
       "            element.style.width = originalWidth;\n",
       "            element.style.color = 'green';\n",
       "            element.innerHTML = \"Copied!\";\n",
       "\n",
       "            setTimeout(() => {\n",
       "                element.innerHTML = originalHTML;\n",
       "                element.style = originalStyle;\n",
       "            }, 2000);\n",
       "        })\n",
       "        .catch(err => {\n",
       "            console.error('Failed to copy:', err);\n",
       "            element.style.color = 'red';\n",
       "            element.innerHTML = \"Failed!\";\n",
       "            setTimeout(() => {\n",
       "                element.innerHTML = originalHTML;\n",
       "                element.style = originalStyle;\n",
       "            }, 2000);\n",
       "        });\n",
       "    return false;\n",
       "}\n",
       "\n",
       "document.querySelectorAll('.fa-regular.fa-copy').forEach(function(element) {\n",
       "    const toggleableContent = element.closest('.sk-toggleable__content');\n",
       "    const paramPrefix = toggleableContent ? toggleableContent.dataset.paramPrefix : '';\n",
       "    const paramName = element.parentElement.nextElementSibling.textContent.trim();\n",
       "    const fullParamName = paramPrefix ? `${paramPrefix}${paramName}` : paramName;\n",
       "\n",
       "    element.setAttribute('title', fullParamName);\n",
       "});\n",
       "</script></body>"
      ]
     },
     "execution_count": 33,
     "metadata": {},
     "output_type": "execute_result"
    }
   ],
   "execution_count": 33
  },
  {
   "metadata": {
    "ExecuteTime": {
     "end_time": "2025-09-12T14:28:26.154680Z",
     "start_time": "2025-09-12T14:28:26.149103Z"
    }
   },
   "cell_type": "code",
   "source": "X_test[0]",
   "id": "4b6047626b92a61",
   "outputs": [
    {
     "data": {
      "text/plain": [
       "array([-1.29053937, -0.49984673,  1.62356013,  0.67593203])"
      ]
     },
     "execution_count": 34,
     "metadata": {},
     "output_type": "execute_result"
    }
   ],
   "execution_count": 34
  },
  {
   "metadata": {
    "ExecuteTime": {
     "end_time": "2025-09-12T14:28:36.985573Z",
     "start_time": "2025-09-12T14:28:36.977226Z"
    }
   },
   "cell_type": "code",
   "source": "data.iloc[0]",
   "id": "f2e91a17ef419cf9",
   "outputs": [
    {
     "data": {
      "text/plain": [
       "Study Hours            4.7\n",
       "Sleep Hours            7.3\n",
       "Attendance Rate       82.9\n",
       "Social Media Hours     3.3\n",
       "Exam Score            80.7\n",
       "Name: 0, dtype: float64"
      ]
     },
     "execution_count": 35,
     "metadata": {},
     "output_type": "execute_result"
    }
   ],
   "execution_count": 35
  },
  {
   "metadata": {
    "ExecuteTime": {
     "end_time": "2025-09-12T14:30:21.605504Z",
     "start_time": "2025-09-12T14:30:21.601731Z"
    }
   },
   "cell_type": "code",
   "source": "new_student = [[5, 7, 90, 4]]",
   "id": "1948190ee815c8ff",
   "outputs": [],
   "execution_count": 42
  },
  {
   "metadata": {
    "ExecuteTime": {
     "end_time": "2025-09-12T14:30:22.106275Z",
     "start_time": "2025-09-12T14:30:22.101585Z"
    }
   },
   "cell_type": "code",
   "source": "new_student_scaled = scaler.transform(new_student)",
   "id": "4f73d1f701f2ab93",
   "outputs": [
    {
     "name": "stderr",
     "output_type": "stream",
     "text": [
      "D:\\PycharmProjects\\MachineLearningNotes\\.venv\\Lib\\site-packages\\sklearn\\utils\\validation.py:2749: UserWarning: X does not have valid feature names, but StandardScaler was fitted with feature names\n",
      "  warnings.warn(\n"
     ]
    }
   ],
   "execution_count": 43
  },
  {
   "metadata": {
    "ExecuteTime": {
     "end_time": "2025-09-12T14:30:22.670268Z",
     "start_time": "2025-09-12T14:30:22.665660Z"
    }
   },
   "cell_type": "code",
   "source": "regression.predict(new_student_scaled)",
   "id": "d806f4df4ab83775",
   "outputs": [
    {
     "data": {
      "text/plain": [
       "array([82.23465969])"
      ]
     },
     "execution_count": 44,
     "metadata": {},
     "output_type": "execute_result"
    }
   ],
   "execution_count": 44
  },
  {
   "metadata": {
    "ExecuteTime": {
     "end_time": "2025-09-12T14:31:12.527781Z",
     "start_time": "2025-09-12T14:31:12.524267Z"
    }
   },
   "cell_type": "code",
   "source": "# predicition",
   "id": "fca2989b70fd88d8",
   "outputs": [],
   "execution_count": 45
  },
  {
   "metadata": {
    "ExecuteTime": {
     "end_time": "2025-09-12T14:31:21.759496Z",
     "start_time": "2025-09-12T14:31:21.754341Z"
    }
   },
   "cell_type": "code",
   "source": "y_pred = regression.predict(X_test)",
   "id": "ae512cf3f1598e39",
   "outputs": [],
   "execution_count": 46
  },
  {
   "metadata": {
    "ExecuteTime": {
     "end_time": "2025-09-12T14:31:24.977443Z",
     "start_time": "2025-09-12T14:31:24.969521Z"
    }
   },
   "cell_type": "code",
   "source": "y_pred",
   "id": "3bc8689803c8c852",
   "outputs": [
    {
     "data": {
      "text/plain": [
       "array([ 67.04704385,  57.90545589,  83.63084813,  63.69399367,\n",
       "        69.73079557,  80.76485587,  93.76445033,  65.93953528,\n",
       "        64.58675718,  78.42296106,  56.67860558,  64.44046585,\n",
       "       102.60438643])"
      ]
     },
     "execution_count": 47,
     "metadata": {},
     "output_type": "execute_result"
    }
   ],
   "execution_count": 47
  },
  {
   "metadata": {
    "ExecuteTime": {
     "end_time": "2025-09-12T14:31:47.814178Z",
     "start_time": "2025-09-12T14:31:47.810176Z"
    }
   },
   "cell_type": "code",
   "source": "from sklearn.metrics import mean_absolute_error,mean_squared_error, r2_score",
   "id": "8fb3631525f4b952",
   "outputs": [],
   "execution_count": 48
  },
  {
   "metadata": {
    "ExecuteTime": {
     "end_time": "2025-09-12T14:32:29.631979Z",
     "start_time": "2025-09-12T14:32:29.626814Z"
    }
   },
   "cell_type": "code",
   "source": [
    "mse = mean_squared_error(y_test, y_pred)\n",
    "mae = mean_absolute_error(y_test, y_pred)\n",
    "\n",
    "print(\"MSE: \", mse)\n",
    "print(\"MAE: \", mae)"
   ],
   "id": "a534d44aac231548",
   "outputs": [
    {
     "name": "stdout",
     "output_type": "stream",
     "text": [
      "MSE:  14.600589378986278\n",
      "MAE:  3.2770264859627876\n"
     ]
    }
   ],
   "execution_count": 49
  },
  {
   "metadata": {
    "ExecuteTime": {
     "end_time": "2025-09-12T14:33:45.505219Z",
     "start_time": "2025-09-12T14:33:45.500385Z"
    }
   },
   "cell_type": "code",
   "source": [
    "r2 = r2_score(y_test, y_pred)\n",
    "print(\"R2 Score: \", r2)"
   ],
   "id": "c4560f231d62283d",
   "outputs": [
    {
     "name": "stdout",
     "output_type": "stream",
     "text": [
      "R2 Score:  0.9156707345772709\n"
     ]
    }
   ],
   "execution_count": 52
  },
  {
   "metadata": {
    "ExecuteTime": {
     "end_time": "2025-09-12T14:33:46.180436Z",
     "start_time": "2025-09-12T14:33:46.177467Z"
    }
   },
   "cell_type": "code",
   "source": [
    "#adjusted r2 score\n",
    "adjusted_r2_score = 1 - (1-r2)*(len(y_test)-1)/(len(y_test)-X_test.shape[1]-1)"
   ],
   "id": "4140f394b8144eb0",
   "outputs": [],
   "execution_count": 53
  },
  {
   "metadata": {
    "ExecuteTime": {
     "end_time": "2025-09-12T14:33:54.058048Z",
     "start_time": "2025-09-12T14:33:54.054798Z"
    }
   },
   "cell_type": "code",
   "source": "print(\"Adjusted R2 Score: \", adjusted_r2_score)",
   "id": "197ac83947c5635d",
   "outputs": [
    {
     "name": "stdout",
     "output_type": "stream",
     "text": [
      "Adjusted R2 Score:  0.8735061018659063\n"
     ]
    }
   ],
   "execution_count": 54
  },
  {
   "metadata": {
    "ExecuteTime": {
     "end_time": "2025-09-12T14:34:30.574468Z",
     "start_time": "2025-09-12T14:34:30.376890Z"
    }
   },
   "cell_type": "code",
   "source": [
    "plt.scatter(y_test, y_pred)\n",
    "plt.show()"
   ],
   "id": "5fee0af0a12e607",
   "outputs": [
    {
     "data": {
      "text/plain": [
       "<Figure size 640x480 with 1 Axes>"
      ],
      "image/png": "[encoded data removed]"
     },
     "metadata": {},
     "output_type": "display_data",
     "jetTransient": {
      "display_id": null
     }
    }
   ],
   "execution_count": 55
  },
  {
   "metadata": {
    "ExecuteTime": {
     "end_time": "2025-09-12T14:34:52.511409Z",
     "start_time": "2025-09-12T14:34:52.503248Z"
    }
   },
   "cell_type": "code",
   "source": "y_pred",
   "id": "2fb08d1e3856e512",
   "outputs": [
    {
     "data": {
      "text/plain": [
       "array([ 67.04704385,  57.90545589,  83.63084813,  63.69399367,\n",
       "        69.73079557,  80.76485587,  93.76445033,  65.93953528,\n",
       "        64.58675718,  78.42296106,  56.67860558,  64.44046585,\n",
       "       102.60438643])"
      ]
     },
     "execution_count": 56,
     "metadata": {},
     "output_type": "execute_result"
    }
   ],
   "execution_count": 56
  },
  {
   "metadata": {
    "ExecuteTime": {
     "end_time": "2025-09-12T14:35:08.633620Z",
     "start_time": "2025-09-12T14:35:08.629534Z"
    }
   },
   "cell_type": "code",
   "source": "residuals = y_test - y_pred",
   "id": "746054fdef50edc6",
   "outputs": [],
   "execution_count": 57
  },
  {
   "metadata": {
    "ExecuteTime": {
     "end_time": "2025-09-12T14:35:11.271192Z",
     "start_time": "2025-09-12T14:35:11.261788Z"
    }
   },
   "cell_type": "code",
   "source": "residuals",
   "id": "4b793b673926513b",
   "outputs": [
    {
     "data": {
      "text/plain": [
       "35    2.652956\n",
       "37    3.894544\n",
       "41   -1.930848\n",
       "26    2.006006\n",
       "38   -3.130796\n",
       "43    3.335144\n",
       "3     2.135550\n",
       "33   -3.039535\n",
       "30   -2.686757\n",
       "36   -9.822961\n",
       "14    2.321394\n",
       "16   -3.040466\n",
       "20   -2.604386\n",
       "Name: Exam Score, dtype: float64"
      ]
     },
     "execution_count": 58,
     "metadata": {},
     "output_type": "execute_result"
    }
   ],
   "execution_count": 58
  },
  {
   "metadata": {
    "ExecuteTime": {
     "end_time": "2025-09-12T14:35:40.806049Z",
     "start_time": "2025-09-12T14:35:40.610574Z"
    }
   },
   "cell_type": "code",
   "source": [
    "sns.displot(residuals, kind=\"kde\")\n",
    "plt.show()"
   ],
   "id": "df51eca1115f30cd",
   "outputs": [
    {
     "data": {
      "text/plain": [
       "<Figure size 500x500 with 1 Axes>"
      ],
      "image/png": "[encoded data removed]"
     },
     "metadata": {},
     "output_type": "display_data",
     "jetTransient": {
      "display_id": null
     }
    }
   ],
   "execution_count": 60
  },
  {
   "metadata": {
    "ExecuteTime": {
     "end_time": "2025-09-12T14:36:18.050770Z",
     "start_time": "2025-09-12T14:36:18.044222Z"
    }
   },
   "cell_type": "code",
   "source": "regression.intercept_",
   "id": "bd7c8723066ebc7d",
   "outputs": [
    {
     "data": {
      "text/plain": [
       "np.float64(77.41081081081082)"
      ]
     },
     "execution_count": 61,
     "metadata": {},
     "output_type": "execute_result"
    }
   ],
   "execution_count": 61
  },
  {
   "metadata": {
    "ExecuteTime": {
     "end_time": "2025-09-12T14:36:22.674688Z",
     "start_time": "2025-09-12T14:36:22.668711Z"
    }
   },
   "cell_type": "code",
   "source": "regression.coef_",
   "id": "96b72660bd565651",
   "outputs": [
    {
     "data": {
      "text/plain": [
       "array([ 9.28014703,  1.78967062,  3.24340001, -4.08127695])"
      ]
     },
     "execution_count": 62,
     "metadata": {},
     "output_type": "execute_result"
    }
   ],
   "execution_count": 62
  },
  {
   "metadata": {
    "ExecuteTime": {
     "end_time": "2025-09-12T14:36:34.090771Z",
     "start_time": "2025-09-12T14:36:34.078997Z"
    }
   },
   "cell_type": "code",
   "source": "X.head()",
   "id": "888c6ac9f56d2d2f",
   "outputs": [
    {
     "data": {
      "text/plain": [
       "   Study Hours  Sleep Hours  Attendance Rate  Social Media Hours\n",
       "0          4.7          7.3             82.9                 3.3\n",
       "1          3.8          6.6             87.9                 3.3\n",
       "2          5.0          6.3             88.3                 2.3\n",
       "3          6.3          7.6             86.0                 3.2\n",
       "4          3.6          8.0             89.2                 3.3"
      ],
      "text/html": [
       "<div>\n",
       "<style scoped>\n",
       "    .dataframe tbody tr th:only-of-type {\n",
       "        vertical-align: middle;\n",
       "    }\n",
       "\n",
       "    .dataframe tbody tr th {\n",
       "        vertical-align: top;\n",
       "    }\n",
       "\n",
       "    .dataframe thead th {\n",
       "        text-align: right;\n",
       "    }\n",
       "</style>\n",
       "<table border=\"1\" class=\"dataframe\">\n",
       "  <thead>\n",
       "    <tr style=\"text-align: right;\">\n",
       "      <th></th>\n",
       "      <th>Study Hours</th>\n",
       "      <th>Sleep Hours</th>\n",
       "      <th>Attendance Rate</th>\n",
       "      <th>Social Media Hours</th>\n",
       "    </tr>\n",
       "  </thead>\n",
       "  <tbody>\n",
       "    <tr>\n",
       "      <th>0</th>\n",
       "      <td>4.7</td>\n",
       "      <td>7.3</td>\n",
       "      <td>82.9</td>\n",
       "      <td>3.3</td>\n",
       "    </tr>\n",
       "    <tr>\n",
       "      <th>1</th>\n",
       "      <td>3.8</td>\n",
       "      <td>6.6</td>\n",
       "      <td>87.9</td>\n",
       "      <td>3.3</td>\n",
       "    </tr>\n",
       "    <tr>\n",
       "      <th>2</th>\n",
       "      <td>5.0</td>\n",
       "      <td>6.3</td>\n",
       "      <td>88.3</td>\n",
       "      <td>2.3</td>\n",
       "    </tr>\n",
       "    <tr>\n",
       "      <th>3</th>\n",
       "      <td>6.3</td>\n",
       "      <td>7.6</td>\n",
       "      <td>86.0</td>\n",
       "      <td>3.2</td>\n",
       "    </tr>\n",
       "    <tr>\n",
       "      <th>4</th>\n",
       "      <td>3.6</td>\n",
       "      <td>8.0</td>\n",
       "      <td>89.2</td>\n",
       "      <td>3.3</td>\n",
       "    </tr>\n",
       "  </tbody>\n",
       "</table>\n",
       "</div>"
      ]
     },
     "execution_count": 64,
     "metadata": {},
     "output_type": "execute_result"
    }
   ],
   "execution_count": 64
  },
  {
   "metadata": {
    "ExecuteTime": {
     "end_time": "2025-09-12T14:38:22.216611Z",
     "start_time": "2025-09-12T14:38:22.108060Z"
    }
   },
   "cell_type": "code",
   "source": "new_student",
   "id": "597eee6798843d61",
   "outputs": [
    {
     "data": {
      "text/plain": [
       "[[5, 7, 90, 4]]"
      ]
     },
     "execution_count": 65,
     "metadata": {},
     "output_type": "execute_result"
    }
   ],
   "execution_count": 65
  },
  {
   "metadata": {
    "ExecuteTime": {
     "end_time": "2025-09-12T14:39:59.659384Z",
     "start_time": "2025-09-12T14:39:59.654356Z"
    }
   },
   "cell_type": "code",
   "source": [
    "students = [\n",
    "    [6, 7, 95, 5],\n",
    "    [3, 6, 85, 4],\n",
    "    [4, 7, 80, 3],\n",
    "    [8, 7, 95, 6]\n",
    "]"
   ],
   "id": "375f79ed874c1b94",
   "outputs": [],
   "execution_count": 67
  },
  {
   "metadata": {
    "ExecuteTime": {
     "end_time": "2025-09-12T14:40:24.127927Z",
     "start_time": "2025-09-12T14:40:24.122730Z"
    }
   },
   "cell_type": "code",
   "source": "regression.predict(scaler.transform(students))",
   "id": "fb73ad33e6e0506e",
   "outputs": [
    {
     "name": "stderr",
     "output_type": "stream",
     "text": [
      "D:\\PycharmProjects\\MachineLearningNotes\\.venv\\Lib\\site-packages\\sklearn\\utils\\validation.py:2749: UserWarning: X does not have valid feature names, but StandardScaler was fitted with feature names\n",
      "  warnings.warn(\n"
     ]
    },
    {
     "data": {
      "text/plain": [
       "array([88.49128002, 62.43586785, 72.73292556, 98.83931996])"
      ]
     },
     "execution_count": 68,
     "metadata": {},
     "output_type": "execute_result"
    }
   ],
   "execution_count": 68
  }
 ],
 "metadata": {
  "kernelspec": {
   "display_name": "Python 3",
   "language": "python",
   "name": "python3"
  },
  "language_info": {
   "codemirror_mode": {
    "name": "ipython",
    "version": 2
   },
   "file_extension": ".py",
   "mimetype": "text/x-python",
   "name": "python",
   "nbconvert_exporter": "python",
   "pygments_lexer": "ipython2",
   "version": "2.7.6"
  }
 },
 "nbformat": 4,
 "nbformat_minor": 5
}
